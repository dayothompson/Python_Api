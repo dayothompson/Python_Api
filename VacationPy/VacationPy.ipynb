{
 "cells": [
  {
   "cell_type": "markdown",
   "metadata": {},
   "source": [
    "# VacationPy\n",
    "----\n",
    "\n",
    "#### Note\n",
    "* Instructions have been included for each segment. You do not have to follow them exactly, but they are included to help you think through the steps."
   ]
  },
  {
   "cell_type": "code",
   "execution_count": 1,
   "metadata": {},
   "outputs": [],
   "source": [
    "# Dependencies and Setup\n",
    "import matplotlib.pyplot as plt\n",
    "import pandas as pd\n",
    "import numpy as np\n",
    "import requests\n",
    "import gmaps\n",
    "import os\n",
    "import time\n",
    "from pprint import pprint\n",
    "import json\n",
    "\n",
    "# Import API key\n",
    "from api_keys import g_key"
   ]
  },
  {
   "cell_type": "markdown",
   "metadata": {},
   "source": [
    "### Store Part I results into DataFrame\n",
    "* Load the csv exported in Part I to a DataFrame"
   ]
  },
  {
   "cell_type": "code",
   "execution_count": 3,
   "metadata": {},
   "outputs": [
    {
     "data": {
      "text/html": [
       "<div>\n",
       "<style scoped>\n",
       "    .dataframe tbody tr th:only-of-type {\n",
       "        vertical-align: middle;\n",
       "    }\n",
       "\n",
       "    .dataframe tbody tr th {\n",
       "        vertical-align: top;\n",
       "    }\n",
       "\n",
       "    .dataframe thead th {\n",
       "        text-align: right;\n",
       "    }\n",
       "</style>\n",
       "<table border=\"1\" class=\"dataframe\">\n",
       "  <thead>\n",
       "    <tr style=\"text-align: right;\">\n",
       "      <th></th>\n",
       "      <th>City ID</th>\n",
       "      <th>City</th>\n",
       "      <th>Cloudiness</th>\n",
       "      <th>Country</th>\n",
       "      <th>Date</th>\n",
       "      <th>Humidity</th>\n",
       "      <th>Latitude</th>\n",
       "      <th>Longitude</th>\n",
       "      <th>Max Temp</th>\n",
       "      <th>Wind Speed</th>\n",
       "    </tr>\n",
       "  </thead>\n",
       "  <tbody>\n",
       "    <tr>\n",
       "      <th>0</th>\n",
       "      <td>0</td>\n",
       "      <td>Busselton</td>\n",
       "      <td>0</td>\n",
       "      <td>AU</td>\n",
       "      <td>1592754655</td>\n",
       "      <td>60</td>\n",
       "      <td>-33.65</td>\n",
       "      <td>115.33</td>\n",
       "      <td>54.00</td>\n",
       "      <td>14.47</td>\n",
       "    </tr>\n",
       "    <tr>\n",
       "      <th>1</th>\n",
       "      <td>1</td>\n",
       "      <td>Carnarvon</td>\n",
       "      <td>0</td>\n",
       "      <td>AU</td>\n",
       "      <td>1592754661</td>\n",
       "      <td>93</td>\n",
       "      <td>-24.87</td>\n",
       "      <td>113.63</td>\n",
       "      <td>60.80</td>\n",
       "      <td>4.85</td>\n",
       "    </tr>\n",
       "    <tr>\n",
       "      <th>2</th>\n",
       "      <td>2</td>\n",
       "      <td>La Primavera</td>\n",
       "      <td>43</td>\n",
       "      <td>CO</td>\n",
       "      <td>1592754661</td>\n",
       "      <td>72</td>\n",
       "      <td>5.49</td>\n",
       "      <td>-70.41</td>\n",
       "      <td>84.85</td>\n",
       "      <td>3.02</td>\n",
       "    </tr>\n",
       "    <tr>\n",
       "      <th>3</th>\n",
       "      <td>3</td>\n",
       "      <td>Shizunai-furukawachō</td>\n",
       "      <td>50</td>\n",
       "      <td>JP</td>\n",
       "      <td>1592754661</td>\n",
       "      <td>87</td>\n",
       "      <td>42.33</td>\n",
       "      <td>142.37</td>\n",
       "      <td>54.45</td>\n",
       "      <td>10.22</td>\n",
       "    </tr>\n",
       "    <tr>\n",
       "      <th>4</th>\n",
       "      <td>4</td>\n",
       "      <td>Rikitea</td>\n",
       "      <td>75</td>\n",
       "      <td>PF</td>\n",
       "      <td>1592754661</td>\n",
       "      <td>70</td>\n",
       "      <td>-23.12</td>\n",
       "      <td>-134.97</td>\n",
       "      <td>71.96</td>\n",
       "      <td>17.22</td>\n",
       "    </tr>\n",
       "  </tbody>\n",
       "</table>\n",
       "</div>"
      ],
      "text/plain": [
       "   City ID                  City  Cloudiness Country        Date  Humidity  \\\n",
       "0        0             Busselton           0      AU  1592754655        60   \n",
       "1        1             Carnarvon           0      AU  1592754661        93   \n",
       "2        2          La Primavera          43      CO  1592754661        72   \n",
       "3        3  Shizunai-furukawachō          50      JP  1592754661        87   \n",
       "4        4               Rikitea          75      PF  1592754661        70   \n",
       "\n",
       "   Latitude  Longitude  Max Temp  Wind Speed  \n",
       "0    -33.65     115.33     54.00       14.47  \n",
       "1    -24.87     113.63     60.80        4.85  \n",
       "2      5.49     -70.41     84.85        3.02  \n",
       "3     42.33     142.37     54.45       10.22  \n",
       "4    -23.12    -134.97     71.96       17.22  "
      ]
     },
     "execution_count": 3,
     "metadata": {},
     "output_type": "execute_result"
    }
   ],
   "source": [
    "# Load the csv exported in Part I to a DataFrame\n",
    "\n",
    "file = \"../output_data/clean_city_data.csv\"\n",
    "file_df = pd.read_csv(file)\n",
    "file_df.head()"
   ]
  },
  {
   "cell_type": "markdown",
   "metadata": {},
   "source": [
    "### Humidity Heatmap\n",
    "* Configure gmaps.\n",
    "* Use the Lat and Lng as locations and Humidity as the weight.\n",
    "* Add Heatmap layer to map."
   ]
  },
  {
   "cell_type": "code",
   "execution_count": 4,
   "metadata": {},
   "outputs": [
    {
     "data": {
      "text/plain": [
       "100"
      ]
     },
     "execution_count": 4,
     "metadata": {},
     "output_type": "execute_result"
    }
   ],
   "source": [
    "# Find the maximum value of Humidity to set the maximum intensity for the heatmap layer\n",
    "file_df['Humidity'].max()"
   ]
  },
  {
   "cell_type": "code",
   "execution_count": 7,
   "metadata": {},
   "outputs": [
    {
     "data": {
      "application/vnd.jupyter.widget-view+json": {
       "model_id": "004a3f4e94b541f0a95d451f1cb2e6e7",
       "version_major": 2,
       "version_minor": 0
      },
      "text/plain": [
       "Figure(layout=FigureLayout(height='420px'))"
      ]
     },
     "metadata": {},
     "output_type": "display_data"
    }
   ],
   "source": [
    "#  Access maps with unique API key\n",
    "gmaps.configure(api_key=g_key)\n",
    "\n",
    "# Create an empty list to store the locations\n",
    "locations = []\n",
    "\n",
    "# Use the latitude and longitude as locations\n",
    "file_df['Location'] = list(zip(file_df[\"Latitude\"], file_df[\"Longitude\"]))\n",
    "\n",
    "# Store latitude and longitude in locations list\n",
    "for coord in file_df['Location']:\n",
    "    locations.append(coord)\n",
    "\n",
    "# To use humidity as the weight    \n",
    "humidity = file_df['Humidity']\n",
    "\n",
    "# Add Heatmap layer to map\n",
    "fig = gmaps.figure()\n",
    "\n",
    "heat_layer = gmaps.heatmap_layer(locations, weights=humidity, \n",
    "                                 dissipating=False, max_intensity=100,\n",
    "                                 point_radius = 5)\n",
    "\n",
    "fig.add_layer(heat_layer)\n",
    "\n",
    "\n",
    "# Display figure\n",
    "fig \n",
    "\n"
   ]
  },
  {
   "cell_type": "markdown",
   "metadata": {},
   "source": [
    "### Create new DataFrame fitting weather criteria\n",
    "* Narrow down the cities to fit weather conditions.\n",
    "* Drop any rows will null values."
   ]
  },
  {
   "cell_type": "markdown",
   "metadata": {},
   "source": [
    "### Hotel Map\n",
    "* Store into variable named `hotel_df`.\n",
    "* Add a \"Hotel Name\" column to the DataFrame.\n",
    "* Set parameters to search for hotels with 5000 meters.\n",
    "* Hit the Google Places API for each city's coordinates.\n",
    "* Store the first Hotel result into the DataFrame.\n",
    "* Plot markers on top of the heatmap."
   ]
  },
  {
   "cell_type": "code",
   "execution_count": 9,
   "metadata": {},
   "outputs": [
    {
     "name": "stderr",
     "output_type": "stream",
     "text": [
      "/Users/dayothompson/opt/anaconda3/lib/python3.7/site-packages/ipykernel_launcher.py:13: SettingWithCopyWarning: \n",
      "A value is trying to be set on a copy of a slice from a DataFrame.\n",
      "Try using .loc[row_indexer,col_indexer] = value instead\n",
      "\n",
      "See the caveats in the documentation: https://pandas.pydata.org/pandas-docs/stable/user_guide/indexing.html#returning-a-view-versus-a-copy\n",
      "  del sys.path[0]\n",
      "/Users/dayothompson/opt/anaconda3/lib/python3.7/site-packages/ipykernel_launcher.py:14: SettingWithCopyWarning: \n",
      "A value is trying to be set on a copy of a slice from a DataFrame\n",
      "\n",
      "See the caveats in the documentation: https://pandas.pydata.org/pandas-docs/stable/user_guide/indexing.html#returning-a-view-versus-a-copy\n",
      "  \n"
     ]
    }
   ],
   "source": [
    "# Narrow down the cities to fit weather conditions\n",
    "\n",
    "    # A max temperature lower than 80 degrees but higher than 70.\n",
    "\n",
    "    # Wind speed less than 10 mph.\n",
    "\n",
    "    # Zero cloudiness.\n",
    "\n",
    "    # Drop any rows that don't contain all three conditions and any rows will null values.\n",
    "\n",
    "hotel_df = file_df[(file_df['Max Temp'] < 80) & (file_df['Max Temp'] > 70) & (file_df['Wind Speed'] < 10) & \n",
    "                 (file_df['Cloudiness'] == 0)]\n",
    "hotel_df[\"Hotel Name\"] = \"\"\n",
    "hotel_df.dropna(inplace=True)"
   ]
  },
  {
   "cell_type": "code",
   "execution_count": 10,
   "metadata": {},
   "outputs": [
    {
     "name": "stdout",
     "output_type": "stream",
     "text": [
      "Name not found\n",
      "Name not found\n"
     ]
    },
    {
     "name": "stderr",
     "output_type": "stream",
     "text": [
      "/Users/dayothompson/opt/anaconda3/lib/python3.7/site-packages/pandas/core/indexing.py:965: SettingWithCopyWarning: \n",
      "A value is trying to be set on a copy of a slice from a DataFrame.\n",
      "Try using .loc[row_indexer,col_indexer] = value instead\n",
      "\n",
      "See the caveats in the documentation: https://pandas.pydata.org/pandas-docs/stable/user_guide/indexing.html#returning-a-view-versus-a-copy\n",
      "  self.obj[item] = s\n"
     ]
    },
    {
     "name": "stdout",
     "output_type": "stream",
     "text": [
      "Name not found\n"
     ]
    }
   ],
   "source": [
    "# set up a parameters dictionary\n",
    "\n",
    "params = {\n",
    "    \"radius\": 50000,\n",
    "    \"keyword\": \"hotel\",\n",
    "    \"key\": g_key\n",
    "}\n",
    "\n",
    "# Use the latitude and longitude to identify hotels\n",
    "for index, row in hotel_df.iterrows():\n",
    "    lat = row[\"Latitude\"]\n",
    "    lng = row[\"Longitude\"]\n",
    "\n",
    "# change location each iteration while leaving original params in place\n",
    "    params[\"location\"] = f\"{lat},{lng}\"\n",
    "\n",
    "# base url\n",
    "    base_url = \"https://maps.googleapis.com/maps/api/place/nearbysearch/json\"\n",
    "\n",
    "# run a request using our params dictionary\n",
    "    hotels = requests.get(base_url, params=params)\n",
    "    hotels_json = hotels.json()\n",
    "    try:\n",
    "        hotel_df.loc[index, \"Hotel Name\"] = hotels_json[\"results\"][0][\"name\"]\n",
    "    except IndexError:\n",
    "        print(\"Name not found\")\n"
   ]
  },
  {
   "cell_type": "code",
   "execution_count": 11,
   "metadata": {},
   "outputs": [
    {
     "name": "stderr",
     "output_type": "stream",
     "text": [
      "/Users/dayothompson/opt/anaconda3/lib/python3.7/site-packages/pandas/core/generic.py:6746: SettingWithCopyWarning: \n",
      "A value is trying to be set on a copy of a slice from a DataFrame\n",
      "\n",
      "See the caveats in the documentation: https://pandas.pydata.org/pandas-docs/stable/user_guide/indexing.html#returning-a-view-versus-a-copy\n",
      "  self._update_inplace(new_data)\n",
      "/Users/dayothompson/opt/anaconda3/lib/python3.7/site-packages/ipykernel_launcher.py:2: SettingWithCopyWarning: \n",
      "A value is trying to be set on a copy of a slice from a DataFrame\n",
      "\n",
      "See the caveats in the documentation: https://pandas.pydata.org/pandas-docs/stable/user_guide/indexing.html#returning-a-view-versus-a-copy\n",
      "  \n"
     ]
    },
    {
     "data": {
      "text/html": [
       "<div>\n",
       "<style scoped>\n",
       "    .dataframe tbody tr th:only-of-type {\n",
       "        vertical-align: middle;\n",
       "    }\n",
       "\n",
       "    .dataframe tbody tr th {\n",
       "        vertical-align: top;\n",
       "    }\n",
       "\n",
       "    .dataframe thead th {\n",
       "        text-align: right;\n",
       "    }\n",
       "</style>\n",
       "<table border=\"1\" class=\"dataframe\">\n",
       "  <thead>\n",
       "    <tr style=\"text-align: right;\">\n",
       "      <th></th>\n",
       "      <th>City ID</th>\n",
       "      <th>City</th>\n",
       "      <th>Cloudiness</th>\n",
       "      <th>Country</th>\n",
       "      <th>Date</th>\n",
       "      <th>Humidity</th>\n",
       "      <th>Latitude</th>\n",
       "      <th>Longitude</th>\n",
       "      <th>Max Temp</th>\n",
       "      <th>Wind Speed</th>\n",
       "      <th>Location</th>\n",
       "      <th>Hotel Name</th>\n",
       "    </tr>\n",
       "  </thead>\n",
       "  <tbody>\n",
       "    <tr>\n",
       "      <th>189</th>\n",
       "      <td>189</td>\n",
       "      <td>Seoul</td>\n",
       "      <td>0</td>\n",
       "      <td>KR</td>\n",
       "      <td>1592754493</td>\n",
       "      <td>88</td>\n",
       "      <td>37.57</td>\n",
       "      <td>126.98</td>\n",
       "      <td>73.40</td>\n",
       "      <td>2.24</td>\n",
       "      <td>(37.57, 126.98)</td>\n",
       "      <td>K-POP HOTEL Seoul Tower</td>\n",
       "    </tr>\n",
       "    <tr>\n",
       "      <th>212</th>\n",
       "      <td>212</td>\n",
       "      <td>Fukuechō</td>\n",
       "      <td>0</td>\n",
       "      <td>JP</td>\n",
       "      <td>1592754688</td>\n",
       "      <td>84</td>\n",
       "      <td>32.69</td>\n",
       "      <td>128.84</td>\n",
       "      <td>72.81</td>\n",
       "      <td>6.53</td>\n",
       "      <td>(32.69, 128.84)</td>\n",
       "      <td>GOTO TSUBAKI HOTEL</td>\n",
       "    </tr>\n",
       "    <tr>\n",
       "      <th>214</th>\n",
       "      <td>214</td>\n",
       "      <td>Faxinal</td>\n",
       "      <td>0</td>\n",
       "      <td>BR</td>\n",
       "      <td>1592754689</td>\n",
       "      <td>46</td>\n",
       "      <td>-24.00</td>\n",
       "      <td>-51.32</td>\n",
       "      <td>76.32</td>\n",
       "      <td>8.75</td>\n",
       "      <td>(-24.0, -51.32)</td>\n",
       "      <td>Hotel Matrix R 139,00 individual</td>\n",
       "    </tr>\n",
       "    <tr>\n",
       "      <th>265</th>\n",
       "      <td>265</td>\n",
       "      <td>Phalaborwa</td>\n",
       "      <td>0</td>\n",
       "      <td>ZA</td>\n",
       "      <td>1592754695</td>\n",
       "      <td>20</td>\n",
       "      <td>-23.94</td>\n",
       "      <td>31.14</td>\n",
       "      <td>77.00</td>\n",
       "      <td>1.12</td>\n",
       "      <td>(-23.94, 31.14)</td>\n",
       "      <td>Kubu Safari Lodge</td>\n",
       "    </tr>\n",
       "    <tr>\n",
       "      <th>348</th>\n",
       "      <td>348</td>\n",
       "      <td>Santo Antônio do Sudoeste</td>\n",
       "      <td>0</td>\n",
       "      <td>BR</td>\n",
       "      <td>1592754707</td>\n",
       "      <td>57</td>\n",
       "      <td>-26.07</td>\n",
       "      <td>-53.73</td>\n",
       "      <td>75.04</td>\n",
       "      <td>5.68</td>\n",
       "      <td>(-26.07, -53.73)</td>\n",
       "      <td>Hotel Titos</td>\n",
       "    </tr>\n",
       "    <tr>\n",
       "      <th>493</th>\n",
       "      <td>493</td>\n",
       "      <td>Arganil</td>\n",
       "      <td>0</td>\n",
       "      <td>PT</td>\n",
       "      <td>1592754729</td>\n",
       "      <td>60</td>\n",
       "      <td>40.22</td>\n",
       "      <td>-8.05</td>\n",
       "      <td>78.01</td>\n",
       "      <td>8.01</td>\n",
       "      <td>(40.22, -8.05)</td>\n",
       "      <td>Hotel Solneve</td>\n",
       "    </tr>\n",
       "  </tbody>\n",
       "</table>\n",
       "</div>"
      ],
      "text/plain": [
       "     City ID                       City  Cloudiness Country        Date  \\\n",
       "189      189                      Seoul           0      KR  1592754493   \n",
       "212      212                   Fukuechō           0      JP  1592754688   \n",
       "214      214                    Faxinal           0      BR  1592754689   \n",
       "265      265                 Phalaborwa           0      ZA  1592754695   \n",
       "348      348  Santo Antônio do Sudoeste           0      BR  1592754707   \n",
       "493      493                    Arganil           0      PT  1592754729   \n",
       "\n",
       "     Humidity  Latitude  Longitude  Max Temp  Wind Speed          Location  \\\n",
       "189        88     37.57     126.98     73.40        2.24   (37.57, 126.98)   \n",
       "212        84     32.69     128.84     72.81        6.53   (32.69, 128.84)   \n",
       "214        46    -24.00     -51.32     76.32        8.75   (-24.0, -51.32)   \n",
       "265        20    -23.94      31.14     77.00        1.12   (-23.94, 31.14)   \n",
       "348        57    -26.07     -53.73     75.04        5.68  (-26.07, -53.73)   \n",
       "493        60     40.22      -8.05     78.01        8.01    (40.22, -8.05)   \n",
       "\n",
       "                           Hotel Name  \n",
       "189           K-POP HOTEL Seoul Tower  \n",
       "212                GOTO TSUBAKI HOTEL  \n",
       "214  Hotel Matrix R 139,00 individual  \n",
       "265                 Kubu Safari Lodge  \n",
       "348                       Hotel Titos  \n",
       "493                     Hotel Solneve  "
      ]
     },
     "execution_count": 11,
     "metadata": {},
     "output_type": "execute_result"
    }
   ],
   "source": [
    "# Drop any empty Hotel row in the DataFrame\n",
    "\n",
    "hotel_df['Hotel Name'].replace('', np.nan, inplace=True)\n",
    "hotel_df.dropna(subset=['Hotel Name'], inplace=True)\n",
    "hotel_df"
   ]
  },
  {
   "cell_type": "code",
   "execution_count": 12,
   "metadata": {},
   "outputs": [],
   "source": [
    "# NOTE: Do not change any of the code in this cell\n",
    "# hotel_locations = [hotel for hotel in hotel_df['Hotel Name']]\n",
    "\n",
    "# Using the template add the hotel marks to the heatmap\n",
    "info_box_template = \"\"\"\n",
    "<dl>\n",
    "<dt>Name</dt><dd>{Hotel Name}</dd>\n",
    "<dt>City</dt><dd>{City}</dd>\n",
    "<dt>Country</dt><dd>{Country}</dd>\n",
    "</dl>\n",
    "\"\"\"\n",
    "# Store the DataFrame Row\n",
    "# NOTE: be sure to update with your DataFrame name\n",
    "hotel_info = [info_box_template.format(**row) for index, row in hotel_df.iterrows()]\n",
    "locations = hotel_df[[\"Latitude\", \"Longitude\"]]"
   ]
  },
  {
   "cell_type": "code",
   "execution_count": 13,
   "metadata": {},
   "outputs": [
    {
     "data": {
      "application/vnd.jupyter.widget-view+json": {
       "model_id": "029ef8181db940a2bd333726ad7afc4b",
       "version_major": 2,
       "version_minor": 0
      },
      "text/plain": [
       "Figure(layout=FigureLayout(height='420px'))"
      ]
     },
     "metadata": {},
     "output_type": "display_data"
    }
   ],
   "source": [
    "# Add marker layer ontop of heat map\n",
    "marker_layer = gmaps.marker_layer(locations, info_box_content=hotel_info)\n",
    "fig = gmaps.figure()\n",
    "fig.add_layer(marker_layer)\n",
    "\n",
    "# Display figure\n",
    "\n",
    "humidity= file_df['Humidity']\n",
    "location2 = file_df['Location']\n",
    "# # fig = gmaps.figure()\n",
    "\n",
    "heat_layer = gmaps.heatmap_layer(location2, weights=humidity, \n",
    "                                 dissipating=False, max_intensity=100,\n",
    "                                 point_radius = 5)\n",
    "\n",
    "fig.add_layer(heat_layer)\n",
    "\n",
    "fig \n",
    "\n"
   ]
  },
  {
   "cell_type": "code",
   "execution_count": null,
   "metadata": {},
   "outputs": [],
   "source": []
  }
 ],
 "metadata": {
  "kernelspec": {
   "display_name": "Python 3",
   "language": "python",
   "name": "python3"
  },
  "language_info": {
   "codemirror_mode": {
    "name": "ipython",
    "version": 3
   },
   "file_extension": ".py",
   "mimetype": "text/x-python",
   "name": "python",
   "nbconvert_exporter": "python",
   "pygments_lexer": "ipython3",
   "version": "3.7.6"
  },
  "latex_envs": {
   "LaTeX_envs_menu_present": true,
   "autoclose": false,
   "autocomplete": true,
   "bibliofile": "biblio.bib",
   "cite_by": "apalike",
   "current_citInitial": 1,
   "eqLabelWithNumbers": true,
   "eqNumInitial": 1,
   "hotkeys": {
    "equation": "Ctrl-E",
    "itemize": "Ctrl-I"
   },
   "labels_anchors": false,
   "latex_user_defs": false,
   "report_style_numbering": false,
   "user_envs_cfg": false
  }
 },
 "nbformat": 4,
 "nbformat_minor": 2
}
